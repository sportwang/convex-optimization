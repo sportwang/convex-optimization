{
 "cells": [
  {
   "cell_type": "markdown",
   "metadata": {},
   "source": [
    "# 1(a)-------------------------------------------------------------------------------------"
   ]
  },
  {
   "cell_type": "markdown",
   "metadata": {},
   "source": [
    "dual: \n",
    "$$\n",
    "        \\max_{y\\epsilon\\mathbb{R^m},s\\epsilon\\mathbb{R^n}}b^Ty \\\\\n",
    "        s.t: A^Ty+s=c \\\\\n",
    "        s \\geqslant 0\n",
    "$$"
   ]
  },
  {
   "cell_type": "markdown",
   "metadata": {},
   "source": [
    "equal problem :\n",
    "$$\n",
    "    \\min_{y\\epsilon\\mathbb{R^m},s\\epsilon\\mathbb{R^n}}-b^Ty + l_{s \\geqslant 0}(s) \\\\\n",
    "    s.t: A^Ty+s=c \n",
    "$$"
   ]
  },
  {
   "cell_type": "markdown",
   "metadata": {},
   "source": [
    "Augumented Lagrange Equation :\n",
    "\\begin{equation}\n",
    "\\begin{split}\n",
    "    L_{\\rho}(y,s;x) &= -b^Ty + l_{s\\geqslant0}(s) + x^T(A^Ty+s-c) + \\frac{\\rho}{2}||A^Ty+s-c||_2^2 \\\\\n",
    "              &= -b^Ty + l_{s\\geqslant0}(s) + \\frac{\\rho}{2}[||A^Ty+s-c||_2^2 + \\frac{2}{\\rho} x^T(A^Ty+s-c) + \\frac{1}{\\rho^2}||x||_2^2 -  \\frac{1}{\\rho^2}||x||_2^2] \\\\\n",
    "              &=-b^Ty + l_{s\\geqslant0}(s) + \\frac{1}{2\\rho}(||\\rho(A^Ty+s-c)+x||_2^2-||x||_2^2)\n",
    "\\end{split}\n",
    "\\end{equation}"
   ]
  },
  {
   "cell_type": "markdown",
   "metadata": {},
   "source": [
    "Augumented Lagrange Equation :\n",
    "\\begin{equation}\n",
    "\\begin{split}\n",
    "    L_{\\rho}(y;x) &= \\inf_{s} L_{\\rho}(y,s;x) \\\\\n",
    "              &= L_{\\rho}(y,s_0;x)  \\ where \\ \\frac{\\partial L_{\\rho}(y,s;x)}{\\partial s} = 0 \\ and \\  s_0 = \\Pi_{s \\geqslant 0}(-\\frac{x}{\\rho}+c-A^Ty) \\\\\n",
    "              &= -b^Ty  + \\frac{1}{2\\rho}(||\\rho(A^Ty-c)+x + \\Pi_{s \\geqslant 0}-(x+\\rho(A^Ty-c))||_2^2-||x||_2^2) \\\\\n",
    "              &= -b^Ty  + \\frac{1}{2\\rho}( ||\\Pi_{s \\geqslant 0}(x+\\rho(A^Ty-c))||_2^2-||x||_2^2)\n",
    "\\end{split}\n",
    "\\end{equation}"
   ]
  },
  {
   "cell_type": "markdown",
   "metadata": {},
   "source": [
    "ALM: \n",
    "$$\n",
    "y^{k+1} = argmin_{y}L_{\\rho}(y,x^k) ——这个子问题可以用homework5里的方法求\\\\\n",
    "x^{k+1} = \\Pi_{s \\geqslant 0}(x^k+\\rho(A^Ty^{k+1}-c)\n",
    "$$"
   ]
  },
  {
   "cell_type": "markdown",
   "metadata": {},
   "source": [
    "# 1(b)\n",
    "---\n",
    "- alm \n",
    "> $\\frac{\\partial L_{\\rho}(y,x^k)}{\\partial y} = -b + A(\\Pi_{s \\geqslant 0 }(x^k + \\rho(A^Ty-c))) $"
   ]
  },
  {
   "cell_type": "code",
   "execution_count": 1,
   "metadata": {
    "collapsed": true
   },
   "outputs": [],
   "source": [
    "from __future__ import division\n",
    "import numpy as np\n",
    "import time\n",
    "np.random.seed(132)\n",
    "n=100\n",
    "m=20\n",
    "A = np.random.randn(m,n)\n",
    "xs = np.abs(np.random.randn(n,1) * np.random.binomial(1, m/n, (n,1)))\n",
    "b = A.dot(xs)\n",
    "y =np.random.randn(m,1)\n",
    "s =np.multiply(np.random.rand(n,1),(xs==0))\n",
    "c = A.T.dot(y) + s"
   ]
  },
  {
   "cell_type": "code",
   "execution_count": 2,
   "metadata": {
    "collapsed": false
   },
   "outputs": [
    {
     "name": "stdout",
     "output_type": "stream",
     "text": [
      "CVX objective: 4.99222695959\n"
     ]
    }
   ],
   "source": [
    "import cvxpy as cy\n",
    "x = cy.Variable(n)\n",
    "objective = cy.Minimize(c.T * x)\n",
    "constraints = [0 <= x, A*x == b]\n",
    "prob = cy.Problem(objective, constraints)\n",
    "print 'CVX objective:',prob.solve()"
   ]
  },
  {
   "cell_type": "code",
   "execution_count": 3,
   "metadata": {
    "collapsed": false
   },
   "outputs": [
    {
     "data": {
      "text/plain": [
       "1483699471.201"
      ]
     },
     "execution_count": 3,
     "metadata": {},
     "output_type": "execute_result"
    }
   ],
   "source": [
    "time.time()"
   ]
  },
  {
   "cell_type": "code",
   "execution_count": 4,
   "metadata": {
    "collapsed": false
   },
   "outputs": [],
   "source": [
    "class Alm () :\n",
    "    def __init__(self,A=A,b=b,s=s,c=c) :\n",
    "        self.A = A\n",
    "        self.b = b\n",
    "        self.s = s\n",
    "        self.c = c\n",
    "    def solve(self,x_0,y_0,p = 0.4):\n",
    "        x= x_0\n",
    "        y = y_0\n",
    "        step = 0.001\n",
    "        start = time.time()\n",
    "        for i in range(1000) :\n",
    "            proj = x + p * (self.A.T.dot(y)-self.c)\n",
    "            proj[proj<0] = 0\n",
    "            py = - self.b + self.A.dot(proj)\n",
    "            while(np.sum(np.square(py)) > 0.01) :\n",
    "                y -= step * py\n",
    "                proj = x + p * (self.A.T.dot(y)-self.c)\n",
    "                proj[proj<0] = 0\n",
    "                py = - self.b + self.A.dot(proj)\n",
    "            x = x + p * (self.A.T.dot(y) - self.c)\n",
    "            x[x<0] = 0\n",
    "        print 'Alm：objective value :',self.c.T.dot(x)\n",
    "        print 'Alm x sum abs erro:',np.sum(np.abs(x-xs))\n",
    "        print 'Alm used time:',time.time() - start"
   ]
  },
  {
   "cell_type": "code",
   "execution_count": 5,
   "metadata": {
    "collapsed": false
   },
   "outputs": [
    {
     "name": "stdout",
     "output_type": "stream",
     "text": [
      "Alm：objective value : [[ 5.02799324]]\n",
      "Alm x sum abs erro: 7.07262923501\n",
      "Alm used time: 0.324000120163\n",
      "CVX objective: 4.99222695959\n"
     ]
    }
   ],
   "source": [
    "y_0 = np.random.randn(m,1)\n",
    "x_0 = np.random.randn(n,1)\n",
    "s_0 = np.random.randn(n,1)\n",
    "model = Alm()\n",
    "model.solve(x_0,y_0)\n",
    "print 'CVX objective:',prob.solve()"
   ]
  },
  {
   "cell_type": "markdown",
   "metadata": {
    "collapsed": true
   },
   "source": [
    "# 2(a)----------------------------------------------------------------------------------------------------"
   ]
  },
  {
   "cell_type": "markdown",
   "metadata": {
    "collapsed": true
   },
   "source": [
    "## ADMM:dual problem \n",
    "$$\n",
    "min -b^Ty + l_{s \\geqslant 0}(s)\\\\\n",
    "s.t  \\ \\ A^Ty+s=c \\\\\n",
    "$$"
   ]
  },
  {
   "cell_type": "markdown",
   "metadata": {},
   "source": [
    "ADMM algorithom:\n",
    "$$\n",
    "    y^{k+1} = argmin_{y}-b^Ty + <x^k,A^Ty>+\\frac{\\rho}{2}||A^Ty+s^k-c||_2^2\n",
    "    \\\\ y^{k+1} = (\\rho AA^T)^{-1}(b-Ax^k-\\rho A(s^k-c))\n",
    "    \\\\ s^{k+1} = argmin_{s} l_{s\\geqslant 0 }(s) + <x^k,s> +\\frac{\\rho}{2}||A^Ty^{k+1}+s-c||_2^2\n",
    "    \\\\ s^{k+1} = \\Pi_{s\\geqslant 0}(-\\frac{x^k}{\\rho}+c-A^Ty^{k+1})\n",
    "    \\\\ x^{k+1} =  x^k + \\rho (A^Ty^{k+1}+s^{k+1}-c)\n",
    "$$"
   ]
  },
  {
   "cell_type": "code",
   "execution_count": 6,
   "metadata": {
    "collapsed": false
   },
   "outputs": [],
   "source": [
    "class Admm (Alm) :\n",
    "    def solve(self,y_0,s_0,p = 0.4) :\n",
    "        x = np.zeros_like(xs)\n",
    "        y = y_0\n",
    "        s = s_0\n",
    "\n",
    "        cc = 1/p * np.linalg.inv(self.A.dot(self.A.T))\n",
    "        start = time.time()\n",
    "        for i in range(10000) :\n",
    "            y = np.dot(cc , self.b - self.A.dot(x)-p*self.A.dot(s) + p*self.A.dot(self.c)) \n",
    "            s = -x/p + c -self.A.T.dot(y)\n",
    "            s[s<0.0] = 0\n",
    "            x = x + p * (self.A.T.dot(y) + s -c)\n",
    "        print 'ADMM：objective value :',self.b.T.dot(y)\n",
    "        print 'ADMM x sum abs erro:',np.sum(np.abs(x-xs))\n",
    "        print 'ADMM used time:',time.time() - start"
   ]
  },
  {
   "cell_type": "code",
   "execution_count": 7,
   "metadata": {
    "collapsed": false
   },
   "outputs": [
    {
     "name": "stdout",
     "output_type": "stream",
     "text": [
      "ADMM：objective value : [[ 4.99222706]]\n",
      "ADMM x sum abs erro: 3.55024258311\n",
      "ADMM used time: 0.40299987793\n",
      "CVX objective: 4.99222695959\n"
     ]
    }
   ],
   "source": [
    "model = Admm()\n",
    "model.solve(y_0,s_0)\n",
    "print 'CVX objective:',prob.solve()"
   ]
  },
  {
   "cell_type": "markdown",
   "metadata": {},
   "source": [
    "## DRS:primal problem------------------------------------------------------------------------------------------------\n",
    "$$\n",
    "    min  \\ \\ c^Tx \\\\\n",
    "    s.t \\ \\ Ax = b \\\\\n",
    "    x \\geqslant 0\n",
    "$$"
   ]
  },
  {
   "cell_type": "markdown",
   "metadata": {},
   "source": [
    "转换一下形式\n",
    "$$\n",
    "    min \\ \\ g(x) + f(x)\n",
    "    \\\\g(x) = c^Tx + l_{Ax=b}(x)  \\\\ f(x) = l_{x \\geqslant 0}(x)\n",
    "$$"
   ]
  },
  {
   "cell_type": "markdown",
   "metadata": {},
   "source": [
    "DRS algorithom :\n",
    "$$\n",
    "    u^+ = prox_{\\rho g }(x+w) ------u^+ = (-c \\rho + x + w)  + A^T(AA^T)^{-1}(b-A(-c\\rho +x + w)) \\\\\n",
    "    x^+ = prox_{\\rho f}(u^+ - w) ---------------------x^+ = \\Pi_{s \\geqslant 0}(u^+ - w) \\\\\n",
    "    w^+ = w + x^+ - u^+ ------------------------------\n",
    "$$"
   ]
  },
  {
   "cell_type": "code",
   "execution_count": 8,
   "metadata": {
    "collapsed": false
   },
   "outputs": [],
   "source": [
    "class Drs(Alm) :\n",
    "    def solve(self,x_0,p=0.3) :\n",
    "        x = x_0\n",
    "        w = x_0\n",
    "        cc = self.A.T.dot(np.linalg.inv(self.A.dot(self.A.T)))\n",
    "        start = time.time()\n",
    "        for i in range(10000) :\n",
    "            u = (-self.c*p+x+w)+np.dot(cc,self.b-self.A.dot(-self.c*p+x+w))\n",
    "            x =  u - w\n",
    "            x[x<0.0] = 0\n",
    "            w = w + x - u\n",
    "        print 'DRS：objective value :',self.c.T.dot(x)\n",
    "        print 'DRS x sum abs erro:',np.sum(np.abs(x-xs))  \n",
    "        print 'DRS used time:',time.time() - start"
   ]
  },
  {
   "cell_type": "code",
   "execution_count": 9,
   "metadata": {
    "collapsed": false
   },
   "outputs": [
    {
     "name": "stdout",
     "output_type": "stream",
     "text": [
      "DRS：objective value : [[ 4.99222786]]\n",
      "DRS x sum abs erro: 2.57763480283\n",
      "DRS used time: 0.282999992371\n",
      "CVX objective: 4.99222695959\n"
     ]
    }
   ],
   "source": [
    "model = Drs()\n",
    "model.solve(s_0)\n",
    "print 'CVX objective:',prob.solve()"
   ]
  },
  {
   "cell_type": "markdown",
   "metadata": {
    "collapsed": true
   },
   "source": [
    "# 2(b)---------对某个问题用ADMM等价于对它的对偶问题用DRS----------------"
   ]
  },
  {
   "cell_type": "markdown",
   "metadata": {},
   "source": [
    "这里ADMM中出现的变量有$y^{k+1},s^{k+1},x^{k+1}$,DRS中出现的变量有$u^+,x^+,w^+$.它们之间的关系是：\n",
    "\n",
    "$$\n",
    "    \\\\\n",
    "    u^+ = x^k + \\rho s^{k} + \\rho A^T(y^{k+1}-c) \\\\\n",
    "    x^+ = x^{k+1} \\\\\n",
    "    w^+ = \\rho s^{k+1}\n",
    "$$"
   ]
  },
  {
   "cell_type": "markdown",
   "metadata": {},
   "source": [
    "### 可以结合2（a）验证关系成立。下面给出一般性的证明。"
   ]
  },
  {
   "cell_type": "markdown",
   "metadata": {},
   "source": [
    "ADMM：\n",
    "$$min \\ \\ f_1(x_1) + f_2(x_2) \\\\\n",
    "s.t:A_1x_1 + A_2x_2 = b\n",
    "$$\n",
    "algorithom:\n",
    "$$\n",
    "    x_1^{k+1} = argmin_{x_1}f_1(x_1) + <A_1x_1,z^k> + \\frac{\\rho}{2}||A_1x_1 + A_2x_2^k-b||_2^2 \\\\\n",
    "    x_2^{k+1} = argmin_{x_2}f_2(x_2) + <A_2x_2,z^k> + \\frac{\\rho}{2}||A_1x_1^k + A_2x_2 - b||_2^2 \\\\\n",
    "    z^{k+1} = z^k + \\rho(A_1x_1^{k+1} + A_2x_2^{k+1})\n",
    "$$"
   ]
  },
  {
   "cell_type": "markdown",
   "metadata": {},
   "source": [
    "DRS:\n",
    "$$\n",
    "    min \\ \\ b^Tz + f_1^*(-A_1^Tz) + f_2^*(-A_2^Tz) \\\\\n",
    "    g(z) := b^Tz + f_1^*(-A_1^Tz)  \\\\\n",
    "    f(z) := f_2^*(-A_2^Tz) \n",
    "$$\n",
    "algorithom:\n",
    "$$\n",
    "    u^+ = prox_{\\rho g }(z+w) \\\\\n",
    "    z^+ = prox_{\\rho f}(u^+ - w)  \\\\\n",
    "    w^+ = w + z^+ - u^+\n",
    "$$\n"
   ]
  },
  {
   "cell_type": "markdown",
   "metadata": {},
   "source": [
    "### 对对偶问题用proximal method 等价于对原问题用ALM。从而ADMM和DRS的关系得证。\n",
    "下面具体证明\n",
    "- proximal method:\n",
    "$$\n",
    "    u^+ = prox_{\\rho g}(z+w) \\\\  \n",
    "    u^+ = argmin_x b^Tx + f_1^*(-A_1^Tx) + \\frac{1}{2 \\rho}||x-(z+w)||_2^2   \\ \\ \\ \\ \\ \\ --(1)\\\\\n",
    "$$\n",
    "- ALM:\n",
    "$$\n",
    "    u^+ = z+w+\\rho(A_1\\hat x_1-b)   \\ \\ \\ \\ \\ \\  \\ \\ \\ \\ \\ -----------(2) \\\\\n",
    "    \\hat x_1 = argmin_{x_1}f_1(x_1) + <z+w,A_1x_1> + \\frac{\\rho}{2}||A_1x_1-b||_2^2 \\ \\ \\ \\ (3)\n",
    "$$"
   ]
  },
  {
   "cell_type": "markdown",
   "metadata": {},
   "source": [
    "**上面三个等式等价:这里通过验证最优性条件说明**，就是（2）的解满足（1）的最优性条件。\n",
    "\n",
    "- 对(1)求导有：$b -A_1 \\partial f_1^*(-A_1^Tx) + \\frac{1}{\\rho}(x-(z-w)) = 0 $\n",
    "- 对(3)求导有：$\\partial f_1(x_1) + A_1^T(z+w) + \\rho A_1^T(A_1x_1-b) = 0$\n",
    "- 容易证明这里(2)满足（1）的最优性条件"
   ]
  },
  {
   "cell_type": "markdown",
   "metadata": {},
   "source": [
    "- proximal method \n",
    "\\begin{equation} \n",
    "\\begin{split} \n",
    "    z^+ &= prox_{\\rho f}(u^+ - w) \\\\\n",
    "      &=prox_{\\rho f}(z+\\rho(A_1 \\hat x_1-b)) \\\\\n",
    "      & = argmin_{x}f_2^*(-A_2^Tx) + \\frac{1}{2\\rho}||z+\\rho(A_1 \\hat x_1-b)-x||_2^2\n",
    "\\end{split}\n",
    "\\end{equation}\n",
    "- ALM\n",
    "$$\n",
    "    z^+ = z + \\rho(A_1 \\hat x_1 - b) + \\rho A_2 \\hat x_2  \\\\\n",
    "    \\hat x_2 = argmin_{x_2}f_2(x_2) + <A_2x_2, z + \\rho(A_1 \\hat x_1-b)> + \\frac{\\rho}{2}||A_2x_2||_2^2\n",
    "$$\n",
    "类似上面的证明，可以知道结论成立。\n",
    "- 从而 $w^+ = A_2 \\hat x_2$"
   ]
  },
  {
   "cell_type": "markdown",
   "metadata": {},
   "source": [
    " ~~Moreau decomposition:$z^+ = z + \\rho(A_1 \\hat x_1 - b) + \\rho \\ prox_{\\rho^{-1}f^*}(\\frac{z}{\\rho}+A_1\\hat x_1 - b)$~~\n"
   ]
  },
  {
   "cell_type": "code",
   "execution_count": null,
   "metadata": {
    "collapsed": true
   },
   "outputs": [],
   "source": []
  }
 ],
 "metadata": {
  "anaconda-cloud": {},
  "kernelspec": {
   "display_name": "Python [conda root]",
   "language": "python",
   "name": "conda-root-py"
  },
  "language_info": {
   "codemirror_mode": {
    "name": "ipython",
    "version": 2
   },
   "file_extension": ".py",
   "mimetype": "text/x-python",
   "name": "python",
   "nbconvert_exporter": "python",
   "pygments_lexer": "ipython2",
   "version": "2.7.12"
  }
 },
 "nbformat": 4,
 "nbformat_minor": 1
}
